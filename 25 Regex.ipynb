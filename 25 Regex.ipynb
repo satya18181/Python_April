{
 "cells": [
  {
   "cell_type": "code",
   "execution_count": 2,
   "metadata": {},
   "outputs": [
    {
     "name": "stdout",
     "output_type": "stream",
     "text": [
      "[('111', '1'), ('22', '2'), ('11', '1'), ('3', '3')]\n"
     ]
    }
   ],
   "source": [
    "import re\n",
    "print(re.findall(r'((.)\\2*)', \"11122113\"))"
   ]
  },
  {
   "cell_type": "code",
   "execution_count": 12,
   "metadata": {},
   "outputs": [
    {
     "data": {
      "text/plain": [
       "'11'"
      ]
     },
     "execution_count": 12,
     "metadata": {},
     "output_type": "execute_result"
    }
   ],
   "source": [
    "s='11'\n",
    "re.match(r'(.)\\1*',s).group(0)"
   ]
  },
  {
   "cell_type": "code",
   "execution_count": null,
   "metadata": {},
   "outputs": [],
   "source": [
    "def countAndSay(self, n):\n",
    "    s = '1'\n",
    "    for _ in range(n - 1):\n",
    "        s = re.sub(r'(.)\\1*', lambda m: str(len(m.group(0))) + m.group(1), s)\n",
    "    return s"
   ]
  },
  {
   "cell_type": "code",
   "execution_count": null,
   "metadata": {},
   "outputs": [],
   "source": [
    "def countAndSay(self, n):\n",
    "    s = '1'\n",
    "    for _ in range(n - 1):\n",
    "        s = ''.join(str(len(group)) + digit\n",
    "                    for group, digit in re.findall(r'((.)\\2*)', s))\n",
    "    return s"
   ]
  },
  {
   "cell_type": "code",
   "execution_count": null,
   "metadata": {},
   "outputs": [],
   "source": [
    "def countAndSay(self, n):\n",
    "    s = '1'\n",
    "    for _ in range(n - 1):\n",
    "        s = ''.join(str(len(list(group))) + digit\n",
    "                    for digit, group in itertools.groupby(s))\n",
    "    return s"
   ]
  },
  {
   "cell_type": "code",
   "execution_count": null,
   "metadata": {},
   "outputs": [],
   "source": [
    "def countAndSay(self, n):\n",
    "\t\t\"\"\"\n",
    "\t\t:type n: int\n",
    "\t\t:rtype: str\n",
    "\t\t\"\"\"\n",
    "\t\tif n == 1:\n",
    "\t\t\treturn \"1\"\n",
    "\t\treturn self.count(self.countAndSay(n - 1))\n",
    "\t\t\n",
    "\tdef count(self , s):\n",
    "\t\tc = s[0]\n",
    "\t\tcount = 1\n",
    "\t\tres = \"\"\n",
    "\t\tfor char in s[1 : ]:\n",
    "\t\t\tif char == c:\n",
    "\t\t\t\tcount += 1\n",
    "\t\t\telse:\n",
    "\t\t\t\tres  = res + str(count) + c\n",
    "\t\t\t\tc = char\n",
    "\t\t\t\tcount = 1\n",
    "\t\tres = res + str(count) + c\n",
    "\t\treturn res"
   ]
  },
  {
   "cell_type": "code",
   "execution_count": null,
   "metadata": {},
   "outputs": [],
   "source": []
  }
 ],
 "metadata": {
  "kernelspec": {
   "display_name": "Python 3",
   "language": "python",
   "name": "python3"
  },
  "language_info": {
   "codemirror_mode": {
    "name": "ipython",
    "version": 3
   },
   "file_extension": ".py",
   "mimetype": "text/x-python",
   "name": "python",
   "nbconvert_exporter": "python",
   "pygments_lexer": "ipython3",
   "version": "3.7.1"
  }
 },
 "nbformat": 4,
 "nbformat_minor": 2
}
