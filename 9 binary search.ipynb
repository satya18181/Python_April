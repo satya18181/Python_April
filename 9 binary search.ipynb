{
 "cells": [
  {
   "cell_type": "code",
   "execution_count": 1,
   "metadata": {},
   "outputs": [],
   "source": [
    "A = [2, 16, 26, 32, 52, 71, 80, 88]\n",
    "\n",
    "# These are already sorted:\n",
    "assert A == sorted(A)"
   ]
  },
  {
   "cell_type": "code",
   "execution_count": 2,
   "metadata": {},
   "outputs": [],
   "source": [
    "def contains(A, x):\n",
    "    \"\"\"Returns True only if the value `x` exists in `A`.\"\"\"\n",
    "    return x in A"
   ]
  },
  {
   "cell_type": "code",
   "execution_count": 3,
   "metadata": {},
   "outputs": [],
   "source": [
    "def ordered_contains(S, x):\n",
    "    # You may assume that `S` is sorted\n",
    "    low, high = 0, len(S)-1\n",
    "    while low <= high:\n",
    "        mid = int((low + high) / 2)\n",
    "        if S[mid] < x:\n",
    "            low = mid + 1\n",
    "        elif S[mid] > x:\n",
    "            high = mid - 1\n",
    "        else:\n",
    "            return True\n",
    "    return False\n",
    "#"
   ]
  },
  {
   "cell_type": "code",
   "execution_count": 4,
   "metadata": {},
   "outputs": [
    {
     "name": "stdout",
     "output_type": "stream",
     "text": [
      "Checking your code on this input: S = [2, 3, 7, 21, 27, 33, 34, 39, 55, 74, 77, 81, 96]\n"
     ]
    }
   ],
   "source": [
    "# Test cell: `test_is_correct` (1 point)\n",
    "\n",
    "from random import randint, sample\n",
    "\n",
    "def gen_list(n, v_max, v_min=0):\n",
    "    return sample(range(v_min, v_max), n)\n",
    "\n",
    "def gen_sorted_list(n, v_max, v_min=0):\n",
    "    return sorted(gen_list(n, v_max, v_min))\n",
    "\n",
    "def check_case(S, x):\n",
    "    msg = \"`contains(S, {}) == {}` while `ordered_contains(S, {}) == {}`!\"\n",
    "    true_solution = contains(S, x)\n",
    "    your_solution = ordered_contains(S, x)\n",
    "    assert your_solution == true_solution, msg.format(true_solution, your_solution)\n",
    "\n",
    "S = gen_sorted_list(13, 100)\n",
    "print(\"Checking your code on this input: S = {}\".format(S))\n",
    "\n"
   ]
  },
  {
   "cell_type": "code",
   "execution_count": 5,
   "metadata": {},
   "outputs": [
    {
     "data": {
      "text/plain": [
       "False"
      ]
     },
     "execution_count": 5,
     "metadata": {},
     "output_type": "execute_result"
    }
   ],
   "source": [
    "ordered_contains(S,1)"
   ]
  },
  {
   "cell_type": "code",
   "execution_count": 6,
   "metadata": {},
   "outputs": [
    {
     "name": "stdout",
     "output_type": "stream",
     "text": [
      "\n",
      "(Passed basic correctness checks.)\n",
      "\n",
      "Timing `contains()`...\n",
      "273 ns ± 9.42 ns per loop (mean ± std. dev. of 7 runs, 1000000 loops each)\n",
      "\n",
      "Timing `ordered_contains()`...\n",
      "1.6 µs ± 76.1 ns per loop (mean ± std. dev. of 7 runs, 1000000 loops each)\n",
      "\n",
      "(This problem is small, so it's okay if your method is slower.)\n",
      "\n",
      "(Passed!)\n"
     ]
    }
   ],
   "source": [
    "check_case(S, S[0]-1)\n",
    "check_case(S, S[-1])\n",
    "check_case(S, S[-1]+1)\n",
    "\n",
    "for x in gen_list(50, 100, -100):\n",
    "    check_case(S, x)\n",
    "print(\"\\n(Passed basic correctness checks.)\")\n",
    "\n",
    "print(\"\\nTiming `contains()`...\")\n",
    "x = randint(-100, 100)\n",
    "%timeit contains(S, x)\n",
    "\n",
    "print(\"\\nTiming `ordered_contains()`...\")\n",
    "%timeit ordered_contains(S, x)\n",
    "\n",
    "print(\"\\n(This problem is small, so it's okay if your method is slower.)\")\n",
    "print(\"\\n(Passed!)\")"
   ]
  },
  {
   "cell_type": "code",
   "execution_count": null,
   "metadata": {},
   "outputs": [],
   "source": []
  },
  {
   "cell_type": "code",
   "execution_count": null,
   "metadata": {},
   "outputs": [],
   "source": []
  },
  {
   "cell_type": "code",
   "execution_count": null,
   "metadata": {},
   "outputs": [],
   "source": []
  }
 ],
 "metadata": {
  "kernelspec": {
   "display_name": "Python 3",
   "language": "python",
   "name": "python3"
  },
  "language_info": {
   "codemirror_mode": {
    "name": "ipython",
    "version": 3
   },
   "file_extension": ".py",
   "mimetype": "text/x-python",
   "name": "python",
   "nbconvert_exporter": "python",
   "pygments_lexer": "ipython3",
   "version": "3.7.1"
  }
 },
 "nbformat": 4,
 "nbformat_minor": 2
}
