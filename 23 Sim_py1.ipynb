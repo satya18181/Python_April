{
 "cells": [
  {
   "cell_type": "code",
   "execution_count": 1,
   "metadata": {},
   "outputs": [],
   "source": [
    "import numpy as np\n",
    "import scipy.stats # only importing scipy doesn't automatically import its subpackages.\n"
   ]
  },
  {
   "cell_type": "code",
   "execution_count": 2,
   "metadata": {},
   "outputs": [],
   "source": [
    "np.random.seed(7)"
   ]
  },
  {
   "cell_type": "code",
   "execution_count": 3,
   "metadata": {},
   "outputs": [
    {
     "data": {
      "text/plain": [
       "13.381051407600712"
      ]
     },
     "execution_count": 3,
     "metadata": {},
     "output_type": "execute_result"
    }
   ],
   "source": [
    "test1=scipy.stats .norm(loc=10,scale=2)# initiate the generator \n",
    "test1.rvs() #create a random value"
   ]
  },
  {
   "cell_type": "code",
   "execution_count": 4,
   "metadata": {},
   "outputs": [],
   "source": [
    "import random, math\n",
    "import numpy as np\n",
    "import scipy as sp\n",
    "import scipy.stats as stats\n",
    "import matplotlib.pyplot as plt\n"
   ]
  },
  {
   "cell_type": "code",
   "execution_count": 5,
   "metadata": {},
   "outputs": [
    {
     "data": {
      "text/plain": [
       "'C:\\\\Users\\\\lifei\\\\Anaconda3\\\\lib\\\\site-packages\\\\numpy\\\\__init__.py'"
      ]
     },
     "execution_count": 5,
     "metadata": {},
     "output_type": "execute_result"
    }
   ],
   "source": [
    "np.__file__# a command to find the location of python site_packages."
   ]
  },
  {
   "cell_type": "code",
   "execution_count": 6,
   "metadata": {},
   "outputs": [],
   "source": [
    "import simpy"
   ]
  },
  {
   "cell_type": "code",
   "execution_count": 7,
   "metadata": {},
   "outputs": [
    {
     "data": {
      "text/plain": [
       "'Monty Python’s Flying Circus'"
      ]
     },
     "execution_count": 7,
     "metadata": {},
     "output_type": "execute_result"
    }
   ],
   "source": [
    "def my_proc(env):\n",
    "    yield env.timeout(20)\n",
    "    return 'Monty Python’s Flying Circus'\n",
    "\n",
    "env = simpy.Environment()\n",
    "proc = env.process(my_proc(env))\n",
    "env.run(until=proc)"
   ]
  },
  {
   "cell_type": "code",
   "execution_count": 8,
   "metadata": {},
   "outputs": [
    {
     "name": "stdout",
     "output_type": "stream",
     "text": [
      "Start parking at 0\n",
      "Start driving at 5\n",
      "Start parking at 7\n",
      "Start driving at 12\n",
      "Start parking at 14\n"
     ]
    }
   ],
   "source": [
    "# the first imple example of simpy simulation\n",
    "\n",
    "def car(env):\n",
    "    while True:\n",
    "        print('Start parking at %d' % env.now)\n",
    "        parking_duration = 5\n",
    "        yield env.timeout(parking_duration)\n",
    "\n",
    "        print('Start driving at %d' % env.now)\n",
    "        trip_duration = 2\n",
    "        yield env.timeout(trip_duration)\n",
    "        \n",
    "import simpy\n",
    "env = simpy.Environment()\n",
    "env.process(car(env))\n",
    "\n",
    "env.run(until=15)"
   ]
  },
  {
   "cell_type": "code",
   "execution_count": 9,
   "metadata": {},
   "outputs": [
    {
     "name": "stdout",
     "output_type": "stream",
     "text": [
      "Start parking and charging at 0\n",
      "Start driving at 5\n",
      "Start parking and charging at 7\n",
      "Start driving at 12\n",
      "Start parking and charging at 14\n"
     ]
    }
   ],
   "source": [
    "# The second example: creating a sequence of actions\n",
    "class Car1(object):\n",
    "    def __init__(self, env):\n",
    "        self.env = env\n",
    "        # Start the run process everytime an instance is created.\n",
    "        self.action = env.process(self.run()) #note how the process is generated here\n",
    "\n",
    "    def run(self):\n",
    "        while True:\n",
    "            print('Start parking and charging at %d' % self.env.now)\n",
    "            charge_duration = 5\n",
    "            # We yield the process that process() returns\n",
    "            # to wait for it to finish\n",
    "            yield self.env.process(self.charge(charge_duration)) # note how to activate the next process in this way.\n",
    "            \n",
    "            # The charge process has finished and\n",
    "            # we can start driving again.\n",
    "            print('Start driving at %d' % self.env.now)\n",
    "            trip_duration = 2\n",
    "            yield self.env.timeout(trip_duration)\n",
    "\n",
    "    def charge(self, duration):\n",
    "            yield self.env.timeout(duration)\n",
    "            \n",
    " \n",
    "\n",
    "env=simpy.Environment()\n",
    "car=Car1(env) # see here: it is different from the first example.\n",
    "env.run(until=15)"
   ]
  },
  {
   "cell_type": "code",
   "execution_count": null,
   "metadata": {},
   "outputs": [],
   "source": [
    "# The third example: creating a sequence of actions\n",
    "class Car2(object):\n",
    "    def __init__(self, env):\n",
    "        self.env = env\n",
    "        # Start the run process everytime an instance is created.\n",
    "        self.action = env.process(self.run()) #note how the process is generated here\n",
    "\n",
    "    def run(self):\n",
    "        while True: # using while loop to create the simulation and terminate it by certain condition\n",
    "            print('Start parking and charging at %d' % self.env.now)\n",
    "            charge_duration = 5\n",
    "            # We yield the process that process() returns\n",
    "            # to wait for it to finish\n",
    "            try:\n",
    "                yield self.env.process(self.charge(charge_duration)) # note how to activate the next process in this way.\n",
    "            \n",
    "            except simpy.Interrupt:\n",
    "                \n",
    "                print('Was interupted. Hope the battery is charged enough.')  # The charge process has finished and\n",
    "                                                                      \n",
    "            print('Start driving at %d' % self.env.now)    # we can start driving again.\n",
    "            trip_duration = 2\n",
    "            yield self.env.timeout(trip_duration)\n",
    "\n",
    "    def charge(self, duration):\n",
    "            yield self.env.timeout(duration)\n",
    "            \n",
    "\n",
    "\n",
    "def driver(env, car):\n",
    "    for i in range(3):\n",
    "        yield env.timeout(3) # creating three interruptions based on time\n",
    "        car.action.interrupt()\n",
    "\n",
    "env=simpy.Environment()\n",
    "car=car(env) # see here: it is different from the first example.\n",
    "env.process(driver(env,car))\n",
    "env.run(until=25)"
   ]
  },
  {
   "cell_type": "code",
   "execution_count": null,
   "metadata": {},
   "outputs": [],
   "source": [
    "\n",
    "\n",
    "# ---------- Import modules -----------\n",
    "\n",
    "#import SimPy module\n",
    "\n",
    "import simpy\n",
    "\n",
    "# Import random module\n",
    "\n",
    "import random\n",
    "\n",
    "# ------------ Set constants ---------------\n",
    "\n",
    "numCheckers = 35 # number of boarding-pass checkers\n",
    "numScanners = 35 # number of scanners\n",
    "\n",
    "arrRate = 50 # arrival rate (passengers per minute)\n",
    "checkRate = 0.75 # boarding-pass check rate (minutes per passenger)\n",
    "minScan = 0.5 # scanner minimum time for uniform distribution\n",
    "maxScan = 1.0 # scanner maximum time for uniform distribution\n",
    "runTime = 720 # run time (minutes) per simulation\n",
    "replications = 100 # number of replications\n",
    "\n",
    "# ------------ Initialize global variables ----------\n",
    "\n",
    "avgCheckTime = [] # average boarding-pass check time (for each replication)\n",
    "avgScanTime = [] # average scan time (for each replication)\n",
    "avgWaitTime = [] # average total wait time (for each replication)\n",
    "avgSystemTime = [] # average total time in system (for each replication)\n",
    "\n",
    "# ------------ Create model ------------------\n",
    "\n",
    "# System class\n",
    "\n",
    "class System(object):\n",
    "    def __init__(self,env):\n",
    "        self.env = env\n",
    "        self.checker = simpy.Resource(env,numCheckers) # define number of boarding-pass checkers\n",
    "        self.scanner = [] # define a set of scanners with 1 each; needed because each has its own queue\n",
    "        for i in range(numScanners):\n",
    "            self.scanner.append(simpy.Resource(env,1))\n",
    "\n",
    "    # define boarding-pass check time (exponential)\n",
    "    def check(self,passenger):\n",
    "        # For some reason in python, expovariate actually uses 1 over the mean, like Poisson\n",
    "        yield self.env.timeout(random.expovariate(1.0/checkRate))\n",
    "\n",
    "    # define scan time (uniform)\n",
    "    def scan(self,passenger):\n",
    "        yield self.env.timeout(random.uniform(minScan,maxScan))\n",
    "\n",
    "# Passenger process through system\n",
    "\n",
    "def passenger(env,name,s):\n",
    "\n",
    "    # access global variables to be able to modify them\n",
    "  \n",
    "    global sysTime\n",
    "    global totThrough\n",
    "\n",
    "    timeArrive = env.now # note arrival time of passenger\n",
    "\n",
    "\n",
    "    # print('%s arrives at time %.2f' % (name,timeArrive))\n",
    "\n",
    "    # Go through boarding-pass check queue\n",
    "    with s.checker.request() as request:\n",
    "        # print('check queue length = %d' % len(s.checker.queue))\n",
    "        yield request # request a checker\n",
    "        tIn = env.now # note when passenger starts being checked\n",
    "        yield env.process(s.check(name)) # call check process\n",
    "        tOut = env.now # note when passenger ends being checked\n",
    "        checkTime.append(tOut - tIn) # calculate total time for passenger to be checked\n",
    "\n",
    "    # Find the shortest scanner queue (note: scanners are numbered 0 through numScanners-1)\n",
    "    minq = 0\n",
    "    for i in range(1,numScanners):\n",
    "        if (len(s.scanner[i].queue) < len(s.scanner[minq].queue)):\n",
    "            minq = i\n",
    "\n",
    "    # print('scanner queue %d lengths = %d' % (minq,len(s.scanner[minq].queue)))\n",
    "\n",
    "    # Go through scanner queue\n",
    "    with s.scanner[minq].request() as request: # use scanner number minq (the shortest, from above)\n",
    "          yield request # request the scanner\n",
    "          tIn = env.now # note when passenger starts being scanned\n",
    "          yield env.process(s.scan(name)) # call scan process\n",
    "          tOut = env.now # note when passenger ends being scanned\n",
    "          scanTime.append(tOut - tIn) # calculate total time for passenger to be scanned\n",
    "          \n",
    "    timeLeave = env.now # note time passenger finishes\n",
    "    sysTime.append(timeLeave - timeArrive) # calculate total time in system for passenger\n",
    "    totThrough += 1 # count another passenger who got through the system\n",
    "\n",
    "\n",
    "# Passenger arrival process\n",
    "\n",
    "def setup(env):\n",
    "    i = 0\n",
    "    s = System(env)\n",
    "    while True: # keep doing it (until simulation ends)\n",
    "        yield env.timeout(random.expovariate(arrRate)) # find tieme until next passenger is created\n",
    "        i += 1 # count one more passenger\n",
    "\n",
    "        # send the passenger through its process\n",
    "        env.process(passenger(env,'Passenger %d' % i,s)) # name the passenger \"Passenger i\"\n",
    "        \n",
    "\n",
    "# ------------------ Run the model --------------------\n",
    "\n",
    "# for each replication\n",
    "for i in range(replications):\n",
    "\n",
    "    # choose random seed\n",
    "    random.seed(i)\n",
    "\n",
    "    # create environment\n",
    "    env = simpy.Environment()\n",
    "\n",
    "    # initialize global variables\n",
    "    totThrough = 0\n",
    "    checkTime = []\n",
    "    scanTime = []\n",
    "    sysTime = []\n",
    "\n",
    "    # run the simulation\n",
    "    env.process(setup(env)) # start passenger arrival process\n",
    "    env.run(until=runTime) # run for runTime simulated minutes\n",
    "\n",
    "    # Calculate average times for this replication\n",
    "    \n",
    "    avgSystemTime.append(sum(sysTime[1:totThrough]) / totThrough)\n",
    "    avgCheckTime.append(sum(checkTime[1:totThrough]) / totThrough)\n",
    "    avgScanTime.append(sum(scanTime[1:totThrough]) / totThrough)\n",
    "    avgWaitTime.append(avgSystemTime[i] - avgCheckTime[i] - avgScanTime[i])\n",
    "\n",
    "    print('%d : Replication %d times %.2f %.2f %.2f %.2f' % (totThrough,i+1,avgSystemTime[i],avgCheckTime[i],avgScanTime[i],avgWaitTime[i]))\n",
    "\n",
    "# Calculate overall averages across all replications\n",
    "\n",
    "print('-----')    \n",
    "print('Average system time = %.2f' % (sum(avgSystemTime)/replications))\n",
    "print('Average check time = %.2f' % (sum(avgCheckTime)/replications))\n",
    "print('Average scan time = %.2f' % (sum(avgScanTime)/replications))\n",
    "print('Average wait time = %.2f' % (sum(avgWaitTime)/replications))"
   ]
  },
  {
   "cell_type": "code",
   "execution_count": null,
   "metadata": {},
   "outputs": [],
   "source": []
  }
 ],
 "metadata": {
  "kernelspec": {
   "display_name": "Python 3",
   "language": "python",
   "name": "python3"
  },
  "language_info": {
   "codemirror_mode": {
    "name": "ipython",
    "version": 3
   },
   "file_extension": ".py",
   "mimetype": "text/x-python",
   "name": "python",
   "nbconvert_exporter": "python",
   "pygments_lexer": "ipython3",
   "version": "3.7.1"
  }
 },
 "nbformat": 4,
 "nbformat_minor": 2
}
