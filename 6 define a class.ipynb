{
 "cells": [
  {
   "cell_type": "code",
   "execution_count": 38,
   "metadata": {},
   "outputs": [],
   "source": [
    "class Card:\n",
    "    \"\"\"Represents a standard playing card.\"\"\"\n",
    "    def __init__(self, suit=0, rank=2):\n",
    "        self.suit = suit\n",
    "        self.rank = rank\n",
    "        \n",
    "    suit_names = ['Clubs', 'Diamonds', 'Hearts', 'Spades']\n",
    "    rank_names = [None, 'Ace', '2', '3', '4', '5', '6', '7',\n",
    "        '8', '9', '10', 'Jack', 'Queen', 'King']\n",
    "    \n",
    "    def __str__(self):\n",
    "         return '%s of %s' % (Card.rank_names[self.rank],\n",
    "                 Card.suit_names[self.suit])"
   ]
  },
  {
   "cell_type": "code",
   "execution_count": 39,
   "metadata": {},
   "outputs": [
    {
     "name": "stdout",
     "output_type": "stream",
     "text": [
      "5 of Spades\n"
     ]
    }
   ],
   "source": [
    "card1=Card(3,5)\n",
    "print(card1)"
   ]
  },
  {
   "cell_type": "code",
   "execution_count": 71,
   "metadata": {},
   "outputs": [],
   "source": [
    "class Deck:\n",
    "    def __init__(self):\n",
    "         self.cards = []\n",
    "         for suit in range(4):\n",
    "             for rank in range(1, 14):\n",
    "                 card = Card(suit, rank)\n",
    "                 self.cards.append(card)\n",
    "                    \n",
    "    def __str__(self):\n",
    "         res = []\n",
    "         for card in self.cards:\n",
    "             res.append(str(card))\n",
    "         return '\\n'.join(res)\n",
    "         "
   ]
  },
  {
   "cell_type": "code",
   "execution_count": 70,
   "metadata": {},
   "outputs": [
    {
     "name": "stdout",
     "output_type": "stream",
     "text": [
      "Ace of Clubs\\2 of Clubs\\3 of Clubs\\4 of Clubs\\5 of Clubs\\6 of Clubs\\7 of Clubs\\8 of Clubs\\9 of Clubs\\10 of Clubs\\Jack of Clubs\\Queen of Clubs\\King of Clubs\\Ace of Diamonds\\2 of Diamonds\\3 of Diamonds\\4 of Diamonds\\5 of Diamonds\\6 of Diamonds\\7 of Diamonds\\8 of Diamonds\\9 of Diamonds\\10 of Diamonds\\Jack of Diamonds\\Queen of Diamonds\\King of Diamonds\\Ace of Hearts\\2 of Hearts\\3 of Hearts\\4 of Hearts\\5 of Hearts\\6 of Hearts\\7 of Hearts\\8 of Hearts\\9 of Hearts\\10 of Hearts\\Jack of Hearts\\Queen of Hearts\\King of Hearts\\Ace of Spades\\2 of Spades\\3 of Spades\\4 of Spades\\5 of Spades\\6 of Spades\\7 of Spades\\8 of Spades\\9 of Spades\\10 of Spades\\Jack of Spades\\Queen of Spades\\King of Spades\n"
     ]
    }
   ],
   "source": [
    "A=Deck()\n",
    "print(A)"
   ]
  }
 ],
 "metadata": {
  "kernelspec": {
   "display_name": "Python 3",
   "language": "python",
   "name": "python3"
  },
  "language_info": {
   "codemirror_mode": {
    "name": "ipython",
    "version": 3
   },
   "file_extension": ".py",
   "mimetype": "text/x-python",
   "name": "python",
   "nbconvert_exporter": "python",
   "pygments_lexer": "ipython3",
   "version": "3.7.1"
  }
 },
 "nbformat": 4,
 "nbformat_minor": 2
}
