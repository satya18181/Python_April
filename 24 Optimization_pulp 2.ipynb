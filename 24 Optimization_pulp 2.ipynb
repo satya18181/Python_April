{
 "cells": [
  {
   "cell_type": "markdown",
   "metadata": {},
   "source": [
    "\n",
    "\n",
    "\n",
    "First We need to import two python libraries and load the data."
   ]
  },
  {
   "cell_type": "code",
   "execution_count": 1,
   "metadata": {},
   "outputs": [],
   "source": [
    "from pulp import *\n",
    "import pandas as pd\n",
    "\n",
    "# load the data\n",
    "df = pd.read_excel('D:/Georgian tech/Courses/ISYE6501/Homeworks/Week 12/diet.xls')"
   ]
  },
  {
   "cell_type": "markdown",
   "metadata": {},
   "source": [
    "Then we need to create two arrays to store the minimum and maximum demand of each kind of nutrtion.The lines including the demand values are then removed from the main table. The rest part of the main table will be used in the optimization calculation."
   ]
  },
  {
   "cell_type": "code",
   "execution_count": 2,
   "metadata": {},
   "outputs": [],
   "source": [
    "# create the maximum demand array \n",
    "demand_max=df.iloc[-1].values[3:]\n",
    "\n",
    "#create the minimum demand array\n",
    "demand_min=df.iloc[-2].values[3:]"
   ]
  },
  {
   "cell_type": "code",
   "execution_count": 3,
   "metadata": {},
   "outputs": [],
   "source": [
    "# remove unnessary parts in the table\n",
    "df.drop(df.index[-3:],inplace=True)"
   ]
  },
  {
   "cell_type": "markdown",
   "metadata": {},
   "source": [
    "Our next step is to bulid up the optimization model. The objective of the optimization model is to minimize the cost per diet."
   ]
  },
  {
   "cell_type": "code",
   "execution_count": 4,
   "metadata": {},
   "outputs": [],
   "source": [
    "# Create the 'prob' variable to contain the problem data\n",
    "prob = LpProblem(\"The Diet Problem\", LpMinimize)"
   ]
  },
  {
   "cell_type": "markdown",
   "metadata": {},
   "source": [
    "A LP dictionary variable is created here to contain all decision variables. The data type of decision variable is continous and its lower bound is set to be 0. To facilitate following calculation and presentation of the optimization results, a dataframe is made to hold all decision variables. A list is also created to include the name of all decision variables for further use. "
   ]
  },
  {
   "cell_type": "code",
   "execution_count": 5,
   "metadata": {},
   "outputs": [],
   "source": [
    "# Get a list of all food names \n",
    "col=df['Foods'].values\n",
    "\n",
    "# A dictionary called 'ingred_vars' is created to contain the referenced Variables\n",
    "ingred_vars = LpVariable.dicts(\"Ingr\",df['Foods'].values,0,cat=\"Continuous\")  #notice how to set the catergory\n",
    "ing=pd.DataFrame([ingred_vars],index=[0],columns=col) #very import to set the column names here, or the order of columns would be different\n",
    "\n",
    "#create a list of target value names for further usage\n",
    "col_ing=[]\n",
    "for i in col:\n",
    "    col_ing.append(str(ing[i][0]))"
   ]
  },
  {
   "cell_type": "markdown",
   "metadata": {},
   "source": [
    "Then, we define the objective function, which is the sum of costs of all ingredients used in the diet. "
   ]
  },
  {
   "cell_type": "code",
   "execution_count": 6,
   "metadata": {},
   "outputs": [],
   "source": [
    "# The objective function is added to 'prob' first\n",
    "prob+=lpSum(ing.dot(df['Price/ Serving'].values))     "
   ]
  },
  {
   "cell_type": "markdown",
   "metadata": {},
   "source": [
    "When the objective function is defined, our next step is to add necessary constraints to the model. In part 1 of the question,we only need to make sure the minimum and maximum nutritional demand of each kind are met."
   ]
  },
  {
   "cell_type": "code",
   "execution_count": 7,
   "metadata": {},
   "outputs": [],
   "source": [
    "# make a list of constraints\n",
    "constraints= df.columns[3:]  \n",
    "\n",
    "# Add the expression of all constraints by a for loop\n",
    "for i in range(len(constraints)):\n",
    "    prob+=lpSum(ing.dot(df[constraints[i]].values))>=demand_min[i]\n",
    "    prob+=lpSum(ing.dot(df[constraints[i]].values))<=demand_max[i]             "
   ]
  },
  {
   "cell_type": "markdown",
   "metadata": {},
   "source": [
    "Then we can run the model to solve the problem.The result of the solving process as well as the optimal total cost per meal are shown as follows. "
   ]
  },
  {
   "cell_type": "code",
   "execution_count": 8,
   "metadata": {},
   "outputs": [
    {
     "name": "stdout",
     "output_type": "stream",
     "text": [
      "Status: Optimal\n",
      "Total Cost of Ingredients per meal =  4.34\n"
     ]
    }
   ],
   "source": [
    "# The problem data is written to an .lp file\n",
    "prob.writeLP(\"Diet.lp\")\n",
    "\n",
    "# The problem is solved using PuLP's choice of Solver\n",
    "prob.solve()\n",
    "\n",
    "# The status of the solution is printed to the screen\n",
    "print(\"Status:\", LpStatus[prob.status])\n",
    "\n",
    "# The optimised objective function value is printed to the screen\n",
    "print(\"Total Cost of Ingredients per meal = \", round(pulp.value(prob.objective),2))"
   ]
  },
  {
   "cell_type": "markdown",
   "metadata": {},
   "source": [
    "What we want to know from the result is which foods are selected in the meal and whether the diet plan meet the nutritional demand or not. We can answer these questions by the following codes. "
   ]
  },
  {
   "cell_type": "code",
   "execution_count": 9,
   "metadata": {},
   "outputs": [
    {
     "data": {
      "text/html": [
       "<div>\n",
       "<style scoped>\n",
       "    .dataframe tbody tr th:only-of-type {\n",
       "        vertical-align: middle;\n",
       "    }\n",
       "\n",
       "    .dataframe tbody tr th {\n",
       "        vertical-align: top;\n",
       "    }\n",
       "\n",
       "    .dataframe thead th {\n",
       "        text-align: right;\n",
       "    }\n",
       "</style>\n",
       "<table border=\"1\" class=\"dataframe\">\n",
       "  <thead>\n",
       "    <tr style=\"text-align: right;\">\n",
       "      <th></th>\n",
       "      <th>Ingr_Lettuce,Iceberg,Raw</th>\n",
       "      <th>Ingr_Celery,_Raw</th>\n",
       "      <th>Ingr_Popcorn,Air_Popped</th>\n",
       "      <th>Ingr_Oranges</th>\n",
       "      <th>Ingr_Frozen_Broccoli</th>\n",
       "      <th>Ingr_Poached_Eggs</th>\n",
       "    </tr>\n",
       "  </thead>\n",
       "  <tbody>\n",
       "    <tr>\n",
       "      <th>Serv_quant</th>\n",
       "      <td>63.988506</td>\n",
       "      <td>52.64371</td>\n",
       "      <td>13.869322</td>\n",
       "      <td>2.292939</td>\n",
       "      <td>0.259607</td>\n",
       "      <td>0.141844</td>\n",
       "    </tr>\n",
       "  </tbody>\n",
       "</table>\n",
       "</div>"
      ],
      "text/plain": [
       "            Ingr_Lettuce,Iceberg,Raw  Ingr_Celery,_Raw  \\\n",
       "Serv_quant                 63.988506          52.64371   \n",
       "\n",
       "            Ingr_Popcorn,Air_Popped  Ingr_Oranges  Ingr_Frozen_Broccoli  \\\n",
       "Serv_quant                13.869322      2.292939              0.259607   \n",
       "\n",
       "            Ingr_Poached_Eggs  \n",
       "Serv_quant           0.141844  "
      ]
     },
     "execution_count": 9,
     "metadata": {},
     "output_type": "execute_result"
    }
   ],
   "source": [
    "# Each of the variables is stored in a dict varibale with it's resolved optimum value\n",
    "result={}\n",
    "for v in prob.variables():\n",
    "    result[v.name]=v.varValue\n",
    "\n",
    "# The result is converted into a dataframe for illustration\n",
    "Ing_result=pd.DataFrame(result,index=['Serv_quant'],columns=col_ing)\n",
    "optim=Ing_result.values[0] # get the optimum values\n",
    "\n",
    "# The food included in the diet is shown as follows in the order of its quantity\n",
    "Ing_result[Ing_result.columns[Ing_result.loc['Serv_quant']>0]].sort_values(by='Serv_quant', axis=1, ascending=False)"
   ]
  },
  {
   "cell_type": "markdown",
   "metadata": {},
   "source": [
    "The foods used in the diet and their quantities are shown in the table above. "
   ]
  },
  {
   "cell_type": "code",
   "execution_count": 10,
   "metadata": {},
   "outputs": [
    {
     "data": {
      "text/html": [
       "<div>\n",
       "<style scoped>\n",
       "    .dataframe tbody tr th:only-of-type {\n",
       "        vertical-align: middle;\n",
       "    }\n",
       "\n",
       "    .dataframe tbody tr th {\n",
       "        vertical-align: top;\n",
       "    }\n",
       "\n",
       "    .dataframe thead th {\n",
       "        text-align: right;\n",
       "    }\n",
       "</style>\n",
       "<table border=\"1\" class=\"dataframe\">\n",
       "  <thead>\n",
       "    <tr style=\"text-align: right;\">\n",
       "      <th></th>\n",
       "      <th>Calories</th>\n",
       "      <th>Cholesterol mg</th>\n",
       "      <th>Total_Fat g</th>\n",
       "      <th>Sodium mg</th>\n",
       "      <th>Carbohydrates g</th>\n",
       "      <th>Dietary_Fiber g</th>\n",
       "      <th>Protein g</th>\n",
       "      <th>Vit_A IU</th>\n",
       "      <th>Vit_C IU</th>\n",
       "      <th>Calcium mg</th>\n",
       "      <th>Iron mg</th>\n",
       "    </tr>\n",
       "  </thead>\n",
       "  <tbody>\n",
       "    <tr>\n",
       "      <th>Demand_min</th>\n",
       "      <td>1500.00</td>\n",
       "      <td>30.0</td>\n",
       "      <td>20.00</td>\n",
       "      <td>800.0</td>\n",
       "      <td>130.0</td>\n",
       "      <td>125.0</td>\n",
       "      <td>60.00</td>\n",
       "      <td>1000.0</td>\n",
       "      <td>400.0</td>\n",
       "      <td>700.00</td>\n",
       "      <td>10.00</td>\n",
       "    </tr>\n",
       "    <tr>\n",
       "      <th>Demand_max</th>\n",
       "      <td>2500.00</td>\n",
       "      <td>240.0</td>\n",
       "      <td>70.00</td>\n",
       "      <td>2000.0</td>\n",
       "      <td>450.0</td>\n",
       "      <td>250.0</td>\n",
       "      <td>100.00</td>\n",
       "      <td>10000.0</td>\n",
       "      <td>5000.0</td>\n",
       "      <td>1500.00</td>\n",
       "      <td>40.00</td>\n",
       "    </tr>\n",
       "    <tr>\n",
       "      <th>Actual_supply</th>\n",
       "      <td>2176.31</td>\n",
       "      <td>30.0</td>\n",
       "      <td>23.28</td>\n",
       "      <td>2000.0</td>\n",
       "      <td>450.0</td>\n",
       "      <td>125.0</td>\n",
       "      <td>81.45</td>\n",
       "      <td>10000.0</td>\n",
       "      <td>400.0</td>\n",
       "      <td>1289.19</td>\n",
       "      <td>28.95</td>\n",
       "    </tr>\n",
       "  </tbody>\n",
       "</table>\n",
       "</div>"
      ],
      "text/plain": [
       "               Calories  Cholesterol mg  Total_Fat g  Sodium mg  \\\n",
       "Demand_min      1500.00            30.0        20.00      800.0   \n",
       "Demand_max      2500.00           240.0        70.00     2000.0   \n",
       "Actual_supply   2176.31            30.0        23.28     2000.0   \n",
       "\n",
       "               Carbohydrates g  Dietary_Fiber g  Protein g  Vit_A IU  \\\n",
       "Demand_min               130.0            125.0      60.00    1000.0   \n",
       "Demand_max               450.0            250.0     100.00   10000.0   \n",
       "Actual_supply            450.0            125.0      81.45   10000.0   \n",
       "\n",
       "               Vit_C IU  Calcium mg  Iron mg  \n",
       "Demand_min        400.0      700.00    10.00  \n",
       "Demand_max       5000.0     1500.00    40.00  \n",
       "Actual_supply     400.0     1289.19    28.95  "
      ]
     },
     "execution_count": 10,
     "metadata": {},
     "output_type": "execute_result"
    }
   ],
   "source": [
    "\n",
    "#check the supply of nutritions per meal\n",
    "final=[]\n",
    "for i in range(len(constraints)):\n",
    "    final.append(round(optim.dot(df[constraints[i]].values),2))\n",
    "    \n",
    "#Compare our result with the requirements\n",
    "Compare_all=pd.DataFrame([demand_min,demand_max,final],index=['Demand_min','Demand_max','Actual_supply'],columns=constraints)\n",
    "Compare_all"
   ]
  },
  {
   "cell_type": "markdown",
   "metadata": {},
   "source": [
    "We can see from the table above that the diet plan made by the optimization model meets all nutritional requirements. "
   ]
  },
  {
   "cell_type": "markdown",
   "metadata": {},
   "source": [
    "### Question 15.2 Part 2"
   ]
  },
  {
   "cell_type": "markdown",
   "metadata": {},
   "source": [
    "we need to add three additional constraints to our model based on the conditions provided by the question. Another LP dict variable is created to indicated whether each kind of food is used in the diet. This variable is of the binary type, value '1' indicating that it is used in the diet, while value '0' means it is not selected. \n",
    "\n",
    "The first additional constraint is added in the following way. If one food is selected, then its serving unit in the diet should be greater than 0.1. And its maximum supply of Calories should be no more than the maximum calory demand in the diet. "
   ]
  },
  {
   "cell_type": "code",
   "execution_count": 11,
   "metadata": {},
   "outputs": [],
   "source": [
    "# Create a variable to show whether one ingredient is selected\n",
    "stat_vars = LpVariable.dicts(\"Stat\",df['Foods'].values,0,1,cat='Binary')  #notice how to set the catergory\n",
    "\n",
    "# Add more constraints\n",
    "for i in range(len(col)):\n",
    "    prob+=ingred_vars[col[i]]>=0.1*stat_vars[col[i]]\n",
    "    prob+=ingred_vars[col[i]]*df['Calories'].iloc[i]<=2500*stat_vars[col[i]]"
   ]
  },
  {
   "cell_type": "markdown",
   "metadata": {},
   "source": [
    "Since frozen Broccoli and raw celery should not be used together in the diet, the sum of their status values should be no more than 1. Therefore, the second additional constaint is expressed as follows:"
   ]
  },
  {
   "cell_type": "code",
   "execution_count": 12,
   "metadata": {},
   "outputs": [],
   "source": [
    "#Constraint of Celery and Frozen Brocconi\n",
    "prob+=stat_vars['Frozen Broccoli']+stat_vars['Celery, Raw']<=1"
   ]
  },
  {
   "cell_type": "markdown",
   "metadata": {},
   "source": [
    "To add the third constraint, we need to create a list of foods that could be taken as meat, poultry, fish or egg. "
   ]
  },
  {
   "cell_type": "code",
   "execution_count": 13,
   "metadata": {},
   "outputs": [],
   "source": [
    "Proteins=['Roasted Chicken','Poached Eggs','Scrambled Eggs','Bologna,Turkey','White Tuna in Water',\n",
    "          'Frankfurter, Beef','Ham,Sliced,Extralean','Kielbasa,Prk','Hotdog, Plain','Pork','Sardines in Oil',\n",
    "           'Splt Pea&Hamsoup','Vegetbeef Soup','Beanbacn Soup,W/Watr']"
   ]
  },
  {
   "cell_type": "markdown",
   "metadata": {},
   "source": [
    "Then, the third constraint is defined as follows:"
   ]
  },
  {
   "cell_type": "code",
   "execution_count": 14,
   "metadata": {},
   "outputs": [],
   "source": [
    "#Constraint of proteins\n",
    "#this is the sum of all statue varibles of proteins\n",
    "Stat_Proteins=sum([stat_vars[i] for i in Proteins])\n",
    "\n",
    "#make sure the sum is no less than 3 times of each protein variable\n",
    "for i in Proteins:\n",
    "    prob+=Stat_Proteins>=3*stat_vars[i]"
   ]
  },
  {
   "cell_type": "markdown",
   "metadata": {},
   "source": [
    "Then we can solve the optimization model again with these additinal constraints."
   ]
  },
  {
   "cell_type": "code",
   "execution_count": 15,
   "metadata": {},
   "outputs": [
    {
     "name": "stdout",
     "output_type": "stream",
     "text": [
      "Status: Optimal\n",
      "Total Cost of Ingredients per meal =  4.51\n"
     ]
    }
   ],
   "source": [
    "# The problem data is written to an .lp file\n",
    "prob.writeLP(\"Diet.lp\")\n",
    "\n",
    "# The problem is solved using PuLP's choice of Solver\n",
    "prob.solve()\n",
    "\n",
    "# The status of the solution is printed to the screen\n",
    "print(\"Status:\", LpStatus[prob.status])\n",
    "\n",
    "# The optimised objective function value is printed to the screen\n",
    "print(\"Total Cost of Ingredients per meal = \", round(pulp.value(prob.objective),2))"
   ]
  },
  {
   "cell_type": "code",
   "execution_count": 16,
   "metadata": {},
   "outputs": [
    {
     "data": {
      "text/html": [
       "<div>\n",
       "<style scoped>\n",
       "    .dataframe tbody tr th:only-of-type {\n",
       "        vertical-align: middle;\n",
       "    }\n",
       "\n",
       "    .dataframe tbody tr th {\n",
       "        vertical-align: top;\n",
       "    }\n",
       "\n",
       "    .dataframe thead th {\n",
       "        text-align: right;\n",
       "    }\n",
       "</style>\n",
       "<table border=\"1\" class=\"dataframe\">\n",
       "  <thead>\n",
       "    <tr style=\"text-align: right;\">\n",
       "      <th></th>\n",
       "      <th>Ingr_Lettuce,Iceberg,Raw</th>\n",
       "      <th>Ingr_Celery,_Raw</th>\n",
       "      <th>Ingr_Popcorn,Air_Popped</th>\n",
       "      <th>Ingr_Oranges</th>\n",
       "      <th>Ingr_Peanut_Butter</th>\n",
       "      <th>Ingr_Poached_Eggs</th>\n",
       "      <th>Ingr_Scrambled_Eggs</th>\n",
       "      <th>Ingr_Kielbasa,Prk</th>\n",
       "    </tr>\n",
       "  </thead>\n",
       "  <tbody>\n",
       "    <tr>\n",
       "      <th>Serv_quant</th>\n",
       "      <td>82.802586</td>\n",
       "      <td>42.399358</td>\n",
       "      <td>13.223294</td>\n",
       "      <td>3.077184</td>\n",
       "      <td>1.942972</td>\n",
       "      <td>0.1</td>\n",
       "      <td>0.1</td>\n",
       "      <td>0.1</td>\n",
       "    </tr>\n",
       "  </tbody>\n",
       "</table>\n",
       "</div>"
      ],
      "text/plain": [
       "            Ingr_Lettuce,Iceberg,Raw  Ingr_Celery,_Raw  \\\n",
       "Serv_quant                 82.802586         42.399358   \n",
       "\n",
       "            Ingr_Popcorn,Air_Popped  Ingr_Oranges  Ingr_Peanut_Butter  \\\n",
       "Serv_quant                13.223294      3.077184            1.942972   \n",
       "\n",
       "            Ingr_Poached_Eggs  Ingr_Scrambled_Eggs  Ingr_Kielbasa,Prk  \n",
       "Serv_quant                0.1                  0.1                0.1  "
      ]
     },
     "execution_count": 16,
     "metadata": {},
     "output_type": "execute_result"
    }
   ],
   "source": [
    "# Each of the variables is stored in a dict varibale with it's resolved optimum value\n",
    "result={}\n",
    "for v in prob.variables():\n",
    "    result[v.name]=v.varValue\n",
    "\n",
    "# The result is converted into a dataframe for illustration\n",
    "Ing_result=pd.DataFrame(result,index=['Serv_quant'],columns=col_ing)\n",
    "optim=Ing_result.values[0] # get the optimum values\n",
    "\n",
    "# The food included in the diet is shown as follows in the order of its quantity\n",
    "Ing_result[Ing_result.columns[Ing_result.loc['Serv_quant']>0]].sort_values(by='Serv_quant', axis=1, ascending=False)"
   ]
  },
  {
   "cell_type": "markdown",
   "metadata": {},
   "source": [
    "The foods used in the diet and their quantities are shown in the table above. We can see that when putting three additional constraints, the diet plan changes accordingly. People don't need to eat frozen broccoli and celery together, they also can get more eggs and a tiny amount of pork.We can see that the minimum serving unit is 0.1, as is required. Hope they like our improved diet plan.\n",
    "\n",
    "Let's check the nutrition supply of this improved the plan again."
   ]
  },
  {
   "cell_type": "code",
   "execution_count": 17,
   "metadata": {},
   "outputs": [
    {
     "data": {
      "text/html": [
       "<div>\n",
       "<style scoped>\n",
       "    .dataframe tbody tr th:only-of-type {\n",
       "        vertical-align: middle;\n",
       "    }\n",
       "\n",
       "    .dataframe tbody tr th {\n",
       "        vertical-align: top;\n",
       "    }\n",
       "\n",
       "    .dataframe thead th {\n",
       "        text-align: right;\n",
       "    }\n",
       "</style>\n",
       "<table border=\"1\" class=\"dataframe\">\n",
       "  <thead>\n",
       "    <tr style=\"text-align: right;\">\n",
       "      <th></th>\n",
       "      <th>Calories</th>\n",
       "      <th>Cholesterol mg</th>\n",
       "      <th>Total_Fat g</th>\n",
       "      <th>Sodium mg</th>\n",
       "      <th>Carbohydrates g</th>\n",
       "      <th>Dietary_Fiber g</th>\n",
       "      <th>Protein g</th>\n",
       "      <th>Vit_A IU</th>\n",
       "      <th>Vit_C IU</th>\n",
       "      <th>Calcium mg</th>\n",
       "      <th>Iron mg</th>\n",
       "    </tr>\n",
       "  </thead>\n",
       "  <tbody>\n",
       "    <tr>\n",
       "      <th>Demand_min</th>\n",
       "      <td>1500.0</td>\n",
       "      <td>30.00</td>\n",
       "      <td>20.00</td>\n",
       "      <td>800.0</td>\n",
       "      <td>130.0</td>\n",
       "      <td>125.0</td>\n",
       "      <td>60.00</td>\n",
       "      <td>1000.00</td>\n",
       "      <td>400.0</td>\n",
       "      <td>700.00</td>\n",
       "      <td>10.00</td>\n",
       "    </tr>\n",
       "    <tr>\n",
       "      <th>Demand_max</th>\n",
       "      <td>2500.0</td>\n",
       "      <td>240.00</td>\n",
       "      <td>70.00</td>\n",
       "      <td>2000.0</td>\n",
       "      <td>450.0</td>\n",
       "      <td>250.0</td>\n",
       "      <td>100.00</td>\n",
       "      <td>10000.00</td>\n",
       "      <td>5000.0</td>\n",
       "      <td>1500.00</td>\n",
       "      <td>40.00</td>\n",
       "    </tr>\n",
       "    <tr>\n",
       "      <th>Actual_supply</th>\n",
       "      <td>2500.0</td>\n",
       "      <td>44.01</td>\n",
       "      <td>53.75</td>\n",
       "      <td>2000.0</td>\n",
       "      <td>450.0</td>\n",
       "      <td>125.0</td>\n",
       "      <td>94.52</td>\n",
       "      <td>9371.84</td>\n",
       "      <td>400.0</td>\n",
       "      <td>1224.61</td>\n",
       "      <td>28.99</td>\n",
       "    </tr>\n",
       "  </tbody>\n",
       "</table>\n",
       "</div>"
      ],
      "text/plain": [
       "               Calories  Cholesterol mg  Total_Fat g  Sodium mg  \\\n",
       "Demand_min       1500.0           30.00        20.00      800.0   \n",
       "Demand_max       2500.0          240.00        70.00     2000.0   \n",
       "Actual_supply    2500.0           44.01        53.75     2000.0   \n",
       "\n",
       "               Carbohydrates g  Dietary_Fiber g  Protein g  Vit_A IU  \\\n",
       "Demand_min               130.0            125.0      60.00   1000.00   \n",
       "Demand_max               450.0            250.0     100.00  10000.00   \n",
       "Actual_supply            450.0            125.0      94.52   9371.84   \n",
       "\n",
       "               Vit_C IU  Calcium mg  Iron mg  \n",
       "Demand_min        400.0      700.00    10.00  \n",
       "Demand_max       5000.0     1500.00    40.00  \n",
       "Actual_supply     400.0     1224.61    28.99  "
      ]
     },
     "execution_count": 17,
     "metadata": {},
     "output_type": "execute_result"
    }
   ],
   "source": [
    "#check the supply of nutritions per meal\n",
    "final=[]\n",
    "for i in range(len(constraints)):\n",
    "    final.append(round(optim.dot(df[constraints[i]].values),2))\n",
    "    \n",
    "#Compare our result with the requirements\n",
    "Compare_all=pd.DataFrame([demand_min,demand_max,final],index=['Demand_min','Demand_max','Actual_supply'],columns=constraints)\n",
    "Compare_all"
   ]
  },
  {
   "cell_type": "markdown",
   "metadata": {},
   "source": [
    "We can see that all nutritional requirements are met in the improved diet plan. During the process of building up the optimization model, I used Excel solver to build a similar model to do the crossing validation work, it is very helpful. "
   ]
  }
 ],
 "metadata": {
  "kernelspec": {
   "display_name": "Python 3",
   "language": "python",
   "name": "python3"
  },
  "language_info": {
   "codemirror_mode": {
    "name": "ipython",
    "version": 3
   },
   "file_extension": ".py",
   "mimetype": "text/x-python",
   "name": "python",
   "nbconvert_exporter": "python",
   "pygments_lexer": "ipython3",
   "version": "3.7.1"
  }
 },
 "nbformat": 4,
 "nbformat_minor": 2
}
